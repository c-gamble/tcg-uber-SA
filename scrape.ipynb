{
 "cells": [
  {
   "cell_type": "code",
   "execution_count": 1,
   "metadata": {},
   "outputs": [
    {
     "name": "stderr",
     "output_type": "stream",
     "text": [
      "/Users/coopergamble/Desktop/usc/clubs/tcg/spring 24/sentiment-analysis/env/lib/python3.11/site-packages/tqdm/auto.py:21: TqdmWarning: IProgress not found. Please update jupyter and ipywidgets. See https://ipywidgets.readthedocs.io/en/stable/user_install.html\n",
      "  from .autonotebook import tqdm as notebook_tqdm\n"
     ]
    }
   ],
   "source": [
    "import requests \n",
    "import bs4\n",
    "import praw\n",
    "from transformers import pipeline\n",
    "from transformers import AutoModelForSequenceClassification\n",
    "from transformers import TFAutoModelForSequenceClassification\n",
    "from transformers import AutoTokenizer\n",
    "import numpy as np\n",
    "from scipy.special import softmax\n",
    "import csv\n",
    "import urllib.request\n",
    "import pandas as pd\n",
    "import json\n",
    "import os\n",
    "\n",
    "REDDIT_CLIENT_ID = json.load(open('./.env.json', 'r'))['REDDIT_CLIENT_ID']\n",
    "REDDIT_CLIENT_SECRET = json.load(open('./.env.json', 'r'))['REDDIT_CLIENT_SECRET']\n",
    "REDDIT_PASSWORD = json.load(open('./.env.json', 'r'))['REDDIT_PASSWORD']\n",
    "\n",
    "KEYWORDS = [\"lyft\", \"uber\", \"ride\", \"shryft\", \"driver\", \"fryft\"]"
   ]
  },
  {
   "cell_type": "code",
   "execution_count": 2,
   "metadata": {},
   "outputs": [
    {
     "name": "stdout",
     "output_type": "stream",
     "text": [
      "cgamble_23\n"
     ]
    }
   ],
   "source": [
    "reddit = praw.Reddit(\n",
    "    client_id=REDDIT_CLIENT_ID,\n",
    "    client_secret=REDDIT_CLIENT_SECRET,\n",
    "    password=REDDIT_PASSWORD,\n",
    "    user_agent=\"testscript by u/fakebot3\",\n",
    "    username=\"cgamble_23\",\n",
    ")\n",
    "print(reddit.user.me())"
   ]
  },
  {
   "cell_type": "code",
   "execution_count": 3,
   "metadata": {},
   "outputs": [],
   "source": [
    "distilbert_base_pipeline = pipeline(model=\"distilbert/distilbert-base-uncased-finetuned-sst-2-english\", truncation=True, max_length=512)\n",
    "\n",
    "def preprocess(text):\n",
    "    new_text = []\n",
    "\n",
    "    for t in text.split(\" \"):\n",
    "        t = '@user' if t.startswith('@') and len(t) > 1 else t\n",
    "        t = 'http' if t.startswith('http') else t\n",
    "        new_text.append(t)\n",
    "    return \" \".join(new_text)\n",
    "\n",
    "task='sentiment'\n",
    "MODEL = f\"cardiffnlp/twitter-roberta-base-{task}\"\n",
    "\n",
    "tokenizer = AutoTokenizer.from_pretrained(MODEL)\n",
    "\n",
    "labels=[]\n",
    "mapping_link = f\"https://raw.githubusercontent.com/cardiffnlp/tweeteval/main/datasets/{task}/mapping.txt\"\n",
    "with urllib.request.urlopen(mapping_link) as f:\n",
    "    html = f.read().decode('utf-8').split(\"\\n\")\n",
    "    csvreader = csv.reader(html, delimiter='\\t')\n",
    "labels = [row[1] for row in csvreader if len(row) > 1]\n",
    "\n",
    "model = AutoModelForSequenceClassification.from_pretrained(MODEL)\n",
    "model.save_pretrained(MODEL)\n",
    "\n",
    "def twitter_roberta_pipeline(inp):\n",
    "    text = preprocess(inp)\n",
    "    encoded_input = tokenizer(text, return_tensors='pt')\n",
    "\n",
    "    for key in encoded_input:\n",
    "        encoded_input[key] = encoded_input[key][:, :512]\n",
    "\n",
    "    output = model(**encoded_input)\n",
    "    scores = output[0][0].detach().numpy()\n",
    "    scores = softmax(scores)\n",
    "    ret = {\n",
    "        'negative': float(scores[0]),\n",
    "        'neutral': float(scores[1]),\n",
    "        'positive': float(scores[2])\n",
    "    }\n",
    "    return ret\n",
    "\n",
    "distilbert_emotion_pipeline = pipeline(\"text-classification\",model='bhadresh-savani/distilbert-base-uncased-emotion', top_k=None, truncation=True, max_length=512)"
   ]
  },
  {
   "cell_type": "markdown",
   "metadata": {},
   "source": [
    "## use twitter"
   ]
  },
  {
   "cell_type": "code",
   "execution_count": 5,
   "metadata": {},
   "outputs": [
    {
     "name": "stdout",
     "output_type": "stream",
     "text": [
      "{'negative': 0.9841306805610657, 'neutral': 0.012793650850653648, 'positive': 0.003075728192925453}\n",
      "{'negative': 0.3857213258743286, 'neutral': 0.39866918325424194, 'positive': 0.21560947597026825}\n"
     ]
    }
   ],
   "source": [
    "print(twitter_roberta_pipeline(\"Lyft is horrible. I hate lyft so much. Lyft is the worst thing ever.\"))\n",
    "print(twitter_roberta_pipeline(\"Lyft is not that good but it's not horrible. It definitely could be improved and isn't as good as Uber.\"))"
   ]
  },
  {
   "cell_type": "code",
   "execution_count": null,
   "metadata": {},
   "outputs": [],
   "source": [
    "COLLEGES = list(open(\"/Users/coopergamble/Desktop/usc/clubs/tcg/spring 24/sentiment-analysis/colleges.txt\", \"r\").read().split(\"\\n\"))\n",
    "\n",
    "RESULTS_DICT = {\n",
    "    'College': [],\n",
    "    'Distilbert Base Score': [], # +1 is POSITIVE, -1 is NEGATIVE\n",
    "    'Twitter Roberta Negative': [],\n",
    "    'Twitter Roberta Neutral': [],\n",
    "    'Twitter Roberta Positive': [],\n",
    "    'Distilbert Emotion Sadness': [],\n",
    "    'Distilbert Emotion Joy': [],\n",
    "    'Distilbert Emotion Love': [],\n",
    "    'Distilbert Emotion Anger': [],\n",
    "    'Distilbert Emotion Fear': [],\n",
    "    'Distilbert Emotion Surprise': []\n",
    "}\n",
    "\n",
    "COMMENTS_DICT = {\n",
    "    'College': [],\n",
    "    'Comment': []\n",
    "}\n",
    "\n",
    "for college in COLLEGES:\n",
    "    print(\"Analyzing\", college)\n",
    "    query= f\"{college}%20lyft%20program%20reddit\"\n",
    "    url = 'https://google.com/search?q=' + query \n",
    "\n",
    "    result=requests.get(url) \n",
    "    \n",
    "    soup = bs4.BeautifulSoup(result.text, \"html.parser\") \n",
    "    a_tags=soup.find_all('a') \n",
    "    \n",
    "    post_urls = []\n",
    "    for info in a_tags:\n",
    "        if \"href=\\\"/url?\" not in str(info): continue\n",
    "        url = str(info).split(\"href=\\\"/url?q=\")[1].split(\"&amp\")[0]\n",
    "        if \"reddit.com\" in url:\n",
    "            post_urls.append(url)\n",
    "    \n",
    "    distilbert_base_score = 0\n",
    "    twitter_roberta_negative = 0\n",
    "    twitter_roberta_neutral = 0\n",
    "    twitter_roberta_positive = 0\n",
    "    distilbert_emotion_sadness = 0\n",
    "    distilbert_emotion_joy = 0\n",
    "    distilbert_emotion_love = 0\n",
    "    distilbert_emotion_anger = 0\n",
    "    distilbert_emotion_fear = 0\n",
    "    distilbert_emotion_surprise = 0\n",
    "    n_comments = 0\n",
    "\n",
    "    for url in post_urls:\n",
    "        try:\n",
    "            submission = reddit.submission(url=url)\n",
    "\n",
    "            comments = [c.body for c in submission.comments]\n",
    "\n",
    "            for comment in comments:\n",
    "\n",
    "                # added in v1\n",
    "                if all([keyword not in comment.lower() for keyword in KEYWORDS]): continue\n",
    "                \n",
    "                n_comments += 1\n",
    "\n",
    "                COMMENTS_DICT['College'].append(college)\n",
    "                COMMENTS_DICT['Comment'].append(comment)\n",
    "\n",
    "                distilbert_base_result = distilbert_base_pipeline(comment)[0]\n",
    "                distilbert_base_score += distilbert_base_result['score'] if distilbert_base_result['label'] == 'POSITIVE' else -distilbert_base_result['score']\n",
    "                \n",
    "                twitter_roberta_result = twitter_roberta_pipeline(comment)\n",
    "                twitter_roberta_positive += twitter_roberta_result['positive']\n",
    "                twitter_roberta_negative += twitter_roberta_result['negative']\n",
    "                twitter_roberta_neutral += twitter_roberta_result['neutral']\n",
    "\n",
    "                emotion_scores = distilbert_emotion_pipeline(comment)[0]\n",
    "                distilbert_emotion_sadness += emotion_scores[0]['score']\n",
    "                distilbert_emotion_joy += emotion_scores[1]['score']\n",
    "                distilbert_emotion_love += emotion_scores[2]['score']\n",
    "                distilbert_emotion_anger += emotion_scores[3]['score']\n",
    "                distilbert_emotion_fear += emotion_scores[4]['score']\n",
    "                distilbert_emotion_surprise += emotion_scores[5]['score']\n",
    "        \n",
    "        except:\n",
    "            continue\n",
    "\n",
    "    if n_comments != 0:\n",
    "        distilbert_base_score /= n_comments\n",
    "        twitter_roberta_positive /= n_comments\n",
    "        twitter_roberta_negative /= n_comments\n",
    "        twitter_roberta_neutral /= n_comments\n",
    "        distilbert_emotion_sadness /= n_comments\n",
    "        distilbert_emotion_joy /= n_comments\n",
    "        distilbert_emotion_love /= n_comments\n",
    "        distilbert_emotion_anger /= n_comments\n",
    "        distilbert_emotion_fear /= n_comments\n",
    "\n",
    "    RESULTS_DICT['College'].append(college)\n",
    "    RESULTS_DICT['Distilbert Base Score'].append(distilbert_base_score)\n",
    "    RESULTS_DICT['Twitter Roberta Negative'].append(twitter_roberta_negative)\n",
    "    RESULTS_DICT['Twitter Roberta Neutral'].append(twitter_roberta_neutral)\n",
    "    RESULTS_DICT['Twitter Roberta Positive'].append(twitter_roberta_positive)\n",
    "    RESULTS_DICT['Distilbert Emotion Sadness'].append(distilbert_emotion_sadness)\n",
    "    RESULTS_DICT['Distilbert Emotion Joy'].append(distilbert_emotion_joy)\n",
    "    RESULTS_DICT['Distilbert Emotion Love'].append(distilbert_emotion_love)\n",
    "    RESULTS_DICT['Distilbert Emotion Anger'].append(distilbert_emotion_anger)\n",
    "    RESULTS_DICT['Distilbert Emotion Fear'].append(distilbert_emotion_fear)\n",
    "    RESULTS_DICT['Distilbert Emotion Surprise'].append(distilbert_emotion_surprise)\n",
    "    \n",
    "results_df = pd.DataFrame(RESULTS_DICT)\n",
    "results_df.to_csv(\"/Users/coopergamble/Desktop/usc/clubs/tcg/spring 24/sentiment-analysis/results.csv\", index=False)\n",
    "\n",
    "comments_df = pd.DataFrame(COMMENTS_DICT)\n",
    "comments_df.to_csv(\"/Users/coopergamble/Desktop/usc/clubs/tcg/spring 24/sentiment-analysis/comments.csv\", index=False)"
   ]
  },
  {
   "cell_type": "code",
   "execution_count": null,
   "metadata": {},
   "outputs": [],
   "source": [
    " "
   ]
  }
 ],
 "metadata": {
  "kernelspec": {
   "display_name": "Python 3",
   "language": "python",
   "name": "python3"
  },
  "language_info": {
   "codemirror_mode": {
    "name": "ipython",
    "version": 3
   },
   "file_extension": ".py",
   "mimetype": "text/x-python",
   "name": "python",
   "nbconvert_exporter": "python",
   "pygments_lexer": "ipython3",
   "version": "3.11.8"
  }
 },
 "nbformat": 4,
 "nbformat_minor": 2
}
